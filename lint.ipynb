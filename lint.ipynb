{
 "cells": [
  {
   "cell_type": "markdown",
   "source": [
    "# Linting\n",
    "\n",
    "Why We Want to Lint Our Code\n",
    "Linting is an essential practice in modern software development, aimed at improving code quality and maintaining consistency across a codebase. Here are several reasons why linting is beneficial:\n",
    "\n",
    "Catch Errors Early:\n",
    "\n",
    "Linting helps identify syntax errors, potential bugs, and common pitfalls before the code is executed. This early detection saves time and reduces the likelihood of introducing bugs into the codebase.\n",
    "Enforce Coding Standards:\n",
    "\n",
    "Linting enforces a consistent coding style and standards across the entire project. This consistency makes the code easier to read, understand, and maintain, especially when working in teams.\n",
    "Improve Code Quality:\n",
    "\n",
    "By highlighting problematic patterns and suggesting improvements, linters encourage writing cleaner, more efficient, and more reliable code. This leads to a more robust and maintainable codebase.\n",
    "Enhance Readability:\n",
    "\n",
    "Consistent code formatting and style improve the readability of the code, making it easier for developers to collaborate and for new team members to get up to speed quickly.\n",
    "Reduce Technical Debt:\n",
    "\n",
    "Regularly linting code helps identify and address issues early, preventing the accumulation of technical debt. This proactive approach leads to a healthier codebase over time.\n",
    "Automate Code Reviews:\n",
    "\n",
    "Linters automate the enforcement of coding standards and best practices, reducing the burden on code reviewers. This allows reviewers to focus on the functionality and logic of the code rather than on stylistic issues.\n",
    "Improve Productivity:\n",
    "\n",
    "By catching errors and enforcing standards automatically, linting reduces the time spent on manual code reviews and debugging. This increased efficiency allows developers to focus on writing new features and improving the application.\n",
    "Facilitate Continuous Integration:\n",
    "\n",
    "Integrating linters into CI/CD pipelines ensures that code quality checks are part of the development workflow. This continuous enforcement helps maintain high standards and reduces the risk of deploying problematic code.\n",
    "Educational Value:\n",
    "\n",
    "Linters provide immediate feedback to developers about coding errors and best practices. This feedback loop is especially valuable for junior developers, helping them learn and adhere to best practices as they code.\n",
    "Boost Confidence:\n",
    "\n",
    "Knowing that the code has been thoroughly checked by a linter gives developers confidence that their code meets the project's standards and is less likely to contain hidden issues.\n",
    "By incorporating linting into the development process, teams can achieve higher code quality, better maintainability, and more efficient collaboration, ultimately leading to more successful and sustainable software projects."
   ],
   "metadata": {
    "collapsed": false
   },
   "id": "2987d31a6463e322"
  },
  {
   "cell_type": "code",
   "outputs": [],
   "source": [
    "pip install ruff\n",
    "ruff check"
   ],
   "metadata": {
    "collapsed": false
   },
   "id": "e7b28c2131a8f6f7"
  },
  {
   "cell_type": "markdown",
   "source": [
    "Autofix!"
   ],
   "metadata": {
    "collapsed": false
   },
   "id": "b91cb9fe18244cb"
  },
  {
   "cell_type": "code",
   "outputs": [],
   "source": [
    "ruff check --fix \n",
    "ruff format"
   ],
   "metadata": {
    "collapsed": false
   },
   "id": "cc8ccf25d6b213de"
  },
  {
   "cell_type": "markdown",
   "source": [
    "most IDEs auto correct as you work, but if you want to use ruff for this"
   ],
   "metadata": {
    "collapsed": false
   },
   "id": "17eab9ad01a9d7a5"
  },
  {
   "cell_type": "code",
   "outputs": [],
   "source": [
    "ruff check --watch"
   ],
   "metadata": {
    "collapsed": false
   },
   "id": "37d16954f5616941"
  },
  {
   "cell_type": "markdown",
   "source": [
    "Configure in ruff.toml or pyproject.toml"
   ],
   "metadata": {
    "collapsed": false
   },
   "id": "1f9ce84a056c8f9d"
  },
  {
   "cell_type": "code",
   "outputs": [],
   "source": [
    "[tool.ruff]\n",
    "line-length = 100  # defaults to 88 like black\n",
    "target-version = \"py39\"  # the python version to target, useful when considering code upgrades, defaults to \"py310\"\n",
    "\n",
    "select = [\n",
    "  \"E\",   # pycodestyle\n",
    "  \"F\",   # pyflakes\n",
    "  \"UP\",  # pyupgrade,\n",
    "  \"I\",   # isort\n",
    "]\n",
    "\n",
    "# if you want to configure a particular plugin, you can do it in \n",
    "# a subsection, it is usually the same configuration that the plugin\n",
    "# supports\n",
    "[tool.ruff.isort]"
   ],
   "metadata": {
    "collapsed": false
   },
   "id": "dfcedfc8d21f5227"
  },
  {
   "cell_type": "markdown",
   "source": [
    "can have different configurations for different modules, but have to specify inheritances explicitly"
   ],
   "metadata": {
    "collapsed": false
   },
   "id": "276f8112b88080f6"
  },
  {
   "cell_type": "code",
   "outputs": [],
   "source": [
    "# Extend the `pyproject.toml` file in the parent directory.\n",
    "extend = \"../pyproject.toml\"\n",
    "# But use a different line length.\n",
    "line-length = 100"
   ],
   "metadata": {
    "collapsed": false
   },
   "id": "3d67a3c7b06db0c"
  },
  {
   "cell_type": "markdown",
   "source": [
    "can configure ignoring formatting errors\n",
    "\n",
    "at the top of a file for the whole file:"
   ],
   "metadata": {
    "collapsed": false
   },
   "id": "71971cce64d6cf9b"
  },
  {
   "cell_type": "code",
   "outputs": [],
   "source": [
    "  # noqa: UP006 "
   ],
   "metadata": {
    "collapsed": false
   },
   "id": "53fc4388a9a5018e"
  },
  {
   "cell_type": "markdown",
   "source": [
    "as a comment on a line to ignore errors on that line"
   ],
   "metadata": {
    "collapsed": false
   },
   "id": "6648986513266433"
  },
  {
   "cell_type": "code",
   "outputs": [],
   "source": [
    "def my_function(): # noqa: UP006"
   ],
   "metadata": {
    "collapsed": false
   },
   "id": "b0c02d864d42c74f"
  },
  {
   "cell_type": "markdown",
   "source": [
    "or specify anywhere by setting in config"
   ],
   "metadata": {
    "collapsed": false
   },
   "id": "bcd1c30328e04281"
  },
  {
   "cell_type": "code",
   "outputs": [],
   "source": [
    "# Enable flake8-bugbear (`B`) rules.\n",
    "select = [\"E\", \"F\", \"B\"]\n",
    "\n",
    "# Never enforce `E501` (line length violations).\n",
    "ignore = [\"E501\"]\n",
    "\n",
    "# Avoid trying to fix flake8-bugbear (`B`) violations.\n",
    "unfixable = [\"B\"]\n",
    "\n",
    "# Ignore `E402` (import violations) in all `__init__.py` files, and in `path/to/file.py`.\n",
    "[per-file-ignores]\n",
    "\"__init__.py\" = [\"E402\"]\n",
    "\"path/to/file.py\" = [\"E402\"]"
   ],
   "metadata": {
    "collapsed": false
   },
   "id": "7cebd24d5e98f7ba"
  },
  {
   "cell_type": "markdown",
   "source": [
    "Has its own GitHub Action https://github.com/chartboost/ruff-action"
   ],
   "metadata": {
    "collapsed": false
   },
   "id": "59f4f8bb2a790e06"
  },
  {
   "cell_type": "code",
   "outputs": [],
   "source": [
    "name: Ruff\n",
    "on: [ push, pull_request ]\n",
    "jobs:\n",
    "  ruff:\n",
    "    runs-on: ubuntu-latest\n",
    "    steps:\n",
    "      - uses: actions/checkout@v4\n",
    "      - uses: chartboost/ruff-action@v1"
   ],
   "metadata": {
    "collapsed": false
   },
   "id": "983c51a38a315821"
  },
  {
   "cell_type": "markdown",
   "source": [
    "Links\n",
    "pytest https://realpython.com/pytest-python-testing/\n",
    "pytest-cov https://martinxpn.medium.com/test-coverage-in-python-with-pytest-86-100-days-of-python-a3205c77296\n"
   ],
   "metadata": {
    "collapsed": false
   },
   "id": "e7fb258503795de5"
  }
 ],
 "metadata": {
  "kernelspec": {
   "display_name": "Python 3",
   "language": "python",
   "name": "python3"
  },
  "language_info": {
   "codemirror_mode": {
    "name": "ipython",
    "version": 2
   },
   "file_extension": ".py",
   "mimetype": "text/x-python",
   "name": "python",
   "nbconvert_exporter": "python",
   "pygments_lexer": "ipython2",
   "version": "2.7.6"
  }
 },
 "nbformat": 4,
 "nbformat_minor": 5
}
