{
 "cells": [
  {
   "cell_type": "markdown",
   "source": [
    "\n",
    "Continuous Integration (CI): CI is the practice of frequently integrating code changes into a shared repository. Each integration is automatically verified by running tests, ensuring that new code doesn’t break the existing functionality.\n",
    "\n",
    "frequent commits to a shared code repository\n",
    "\n",
    "Once a change has passed all the CI tests in the workflow, it is ready for review by team members, and you can merge it into the repository\n",
    "\n",
    "Continuous Deployment (CD): CD is the practice of automatically deploying every change that passes the CI tests to production. This enables rapid and reliable delivery of software updates to users.\n",
    "\n",
    "Continuous deployment is an extension of continuous integration and delivery that automates the process of publishing and deploying software releases"
   ],
   "metadata": {
    "collapsed": false
   },
   "id": "3a6c5a10ca84a55c"
  },
  {
   "cell_type": "markdown",
   "source": [
    "Advantages of CI/CD\n",
    "\n",
    "Faster Release Cycles: Automated testing and deployment allow us to release new features and bug fixes more quickly and efficiently.\n",
    "Improved Code Quality: By running tests on every change, we catch issues early and maintain high code quality.\n",
    "Early Detection of Bugs: Automated tests catch bugs as soon as they are introduced, reducing the cost and effort required to fix them later.\n",
    "Increased Developer Productivity: With CI/CD, developers spend less time on manual testing and deployment, allowing them to focus more on writing code and adding value to the project."
   ],
   "metadata": {
    "collapsed": false
   },
   "id": "d018ca68d257ca0c"
  },
  {
   "cell_type": "markdown",
   "source": [
    "What is GitHub Actions?\n",
    "\n",
    "Workflows, jobs, and steps.\n",
    "A workflow is a series of jobs and a job is a series of steps; A workflow is an automated process made up of several jobs that are carried out when triggered by events\n",
    "\n",
    "A job runs on a single runner and thus its steps share resources\n",
    "Different jobs run in parallel on different runners\n",
    "Unless needs is specified\n",
    "\n",
    "Each job on a GitHub-hosted runner starts in a fresh environment, so it is necessary to download the dependencies for every new job. These downloads can lengthen the runtime, increase network utilization, and increase costs. GitHub allows you to accelerate the process of recreating dependency files by caching frequently used files in a workflow. \n",
    "\n",
    "You can cache job dependencies by using the cache action in GitHub. This action builds and restores caches identified using unique keys.\n",
    "\n",
    "You can use a matrix strategy to run multiple related jobs based on the same job definition.\n",
    "e.g. different operating systems (different runners) or different lang or dependency version\n",
    "\n",
    "Understanding YAML Configuration\n",
    "Basic syntax and structure.\n",
    "\n",
    "To put these concepts into practice, we'll use GitHub Actions, a powerful CI/CD tool integrated with GitHub. GitHub Actions allows us to automate our workflows, from testing to deployment, directly within our GitHub repositories."
   ],
   "metadata": {
    "collapsed": false
   },
   "id": "d0ccccf8f0246e9a"
  },
  {
   "cell_type": "markdown",
   "source": [
    "Create a new directory in your repository and name it .github/workflows if such a directory doesn’t already exist."
   ],
   "metadata": {
    "collapsed": false
   },
   "id": "ac941b620799a93e"
  },
  {
   "cell_type": "code",
   "outputs": [],
   "source": [
    "mkdir .github/workflows"
   ],
   "metadata": {
    "collapsed": false
   },
   "id": "6c9133b4535bfa12"
  },
  {
   "cell_type": "markdown",
   "source": [
    "Create a workflow file called test.yml"
   ],
   "metadata": {
    "collapsed": false
   },
   "id": "b6c5ddf16674dfdd"
  },
  {
   "cell_type": "markdown",
   "source": [
    "name: Python application\n",
    "\n",
    "on: [push, pull_request]\n",
    "\n",
    "jobs:\n",
    "  build:\n",
    "\n",
    "    runs-on: ubuntu-latest\n",
    "\n",
    "    strategy:\n",
    "      matrix:\n",
    "        python-version: [3.9, 3.10, 3.11]\n",
    "\n",
    "    steps:\n",
    "    - name: Checkout repository\n",
    "      uses: actions/checkout@v4\n",
    "\n",
    "    - name: Set up Python ${{ matrix.python-version }}\n",
    "      uses: actions/setup-python@v2\n",
    "      with:\n",
    "        python-version: ${{ matrix.python-version }}\n",
    "\n",
    "    - name: Install dependencies\n",
    "      run: |\n",
    "        python -m pip install --upgrade pip\n",
    "        pip install pytest\n",
    "\n",
    "    - name: Run tests\n",
    "      run: |\n",
    "        python -m pytest discover tests\n"
   ],
   "metadata": {
    "collapsed": false
   },
   "id": "1486078abe6902f"
  },
  {
   "cell_type": "markdown",
   "source": [
    "You can test Actions locally with `act`"
   ],
   "metadata": {
    "collapsed": false
   },
   "id": "61fc424d5eb7c62b"
  },
  {
   "cell_type": "code",
   "outputs": [],
   "source": [
    "# Window\n",
    "choco install act-cli\n",
    "\n",
    "# MacOS\n",
    "brew install act\n",
    "\n",
    "# Linux\n",
    "curl https://raw.githubusercontent.com/nektos/act/master/install.sh | sudo bash"
   ],
   "metadata": {
    "collapsed": false
   },
   "id": "72043f8af635b670"
  },
  {
   "cell_type": "markdown",
   "source": [
    "act by default runs with the push event"
   ],
   "metadata": {
    "collapsed": false
   },
   "id": "809922bea86f0cc6"
  },
  {
   "cell_type": "code",
   "outputs": [],
   "source": [
    "act"
   ],
   "metadata": {
    "collapsed": false
   },
   "id": "6945f444f3b7ab63"
  },
  {
   "cell_type": "markdown",
   "source": [
    "but you can pass any event as the first argument"
   ],
   "metadata": {
    "collapsed": false
   },
   "id": "d97eac0cc2233768"
  },
  {
   "cell_type": "code",
   "outputs": [],
   "source": [
    "act pull_request"
   ],
   "metadata": {
    "collapsed": false
   },
   "id": "6221e97f9a5039e5"
  },
  {
   "cell_type": "markdown",
   "source": [
    "you can list all available jobs with"
   ],
   "metadata": {
    "collapsed": false
   },
   "id": "786b08e1704f16c"
  },
  {
   "cell_type": "code",
   "outputs": [],
   "source": [
    "act -l"
   ],
   "metadata": {
    "collapsed": false
   },
   "id": "2516274f41e572f0"
  },
  {
   "cell_type": "markdown",
   "source": [
    "you can run a specific job"
   ],
   "metadata": {
    "collapsed": false
   },
   "id": "cff5133cc1d9098d"
  },
  {
   "cell_type": "code",
   "outputs": [],
   "source": [
    "act --job <name-of-your-job>"
   ],
   "metadata": {
    "collapsed": false
   },
   "id": "a4628e7186609f76"
  },
  {
   "cell_type": "markdown",
   "source": [
    "show the graph of your jobs"
   ],
   "metadata": {
    "collapsed": false
   },
   "id": "6ac9c7ad50d7b073"
  },
  {
   "cell_type": "code",
   "outputs": [],
   "source": [
    "act --graph"
   ],
   "metadata": {
    "collapsed": false
   },
   "id": "55908771c08676f7"
  },
  {
   "cell_type": "markdown",
   "source": [
    "what about env vars? \n",
    "create a .env file and act will automatically load it as environment variables"
   ],
   "metadata": {
    "collapsed": false
   },
   "id": "4dd7dbb31efb4e7e"
  },
  {
   "cell_type": "code",
   "outputs": [],
   "source": [
    "# .env\n",
    "ENV_ID='My Env'"
   ],
   "metadata": {
    "collapsed": false
   },
   "id": "ef3c3916239d2c5d"
  },
  {
   "cell_type": "markdown",
   "source": [
    "You can work with different environments and load them with the act command"
   ],
   "metadata": {
    "collapsed": false
   },
   "id": "e1767769e8311cc2"
  },
  {
   "cell_type": "code",
   "outputs": [],
   "source": [
    "act --env-file=my-custom.env"
   ],
   "metadata": {
    "collapsed": false
   },
   "id": "a87adf1b0aaca8ca"
  },
  {
   "cell_type": "markdown",
   "source": [
    "Secrets work in much the same way, but you create a .secrets file"
   ],
   "metadata": {
    "collapsed": false
   },
   "id": "5cc39f06b40f35c"
  },
  {
   "cell_type": "code",
   "outputs": [],
   "source": [
    "# .secrets\n",
    "APP_ID='7878974561587'"
   ],
   "metadata": {
    "collapsed": false
   },
   "id": "406e13a6e27cfbe9"
  },
  {
   "cell_type": "markdown",
   "source": [
    "`act` limitations: No `concurrency`, no `vars`, limited `github` context"
   ],
   "metadata": {
    "collapsed": false
   },
   "id": "7b429dce2e54c88d"
  },
  {
   "cell_type": "markdown",
   "source": [
    "Pros and Cons of Using GitHub Marketplace Actions\n",
    "Pros:\n",
    "\n",
    "Time-Saving:\n",
    "\n",
    "Pre-built Solutions: GitHub Marketplace offers a wide range of pre-built actions that can significantly reduce the time needed to set up CI/CD pipelines. You can find actions for common tasks like testing, building, deploying, and more.\n",
    "Quick Integration: These actions can be easily integrated into your workflows with minimal configuration, allowing you to focus more on your code rather than on setting up infrastructure.\n",
    "Consistency and Reliability:\n",
    "\n",
    "Trusted Tools: Many actions are created and maintained by reputable organizations or developers, ensuring a level of reliability and trustworthiness.\n",
    "Standard Practices: Using standardized actions can help ensure that best practices are followed, reducing the likelihood of configuration errors.\n",
    "Community and Support:\n",
    "\n",
    "Community Contributions: The GitHub community contributes a variety of actions, providing solutions to a broad range of use cases.\n",
    "Support and Documentation: Many popular actions come with extensive documentation and support from the community or the maintainers, making it easier to troubleshoot and customize.\n",
    "Scalability:\n",
    "\n",
    "Reusable Workflows: Actions can be reused across multiple projects, ensuring consistency and saving time when setting up new repositories.\n",
    "Customization: Actions can often be customized to fit specific needs, providing flexibility while maintaining the benefits of pre-built solutions.\n",
    "Integration with GitHub Ecosystem:\n",
    "\n",
    "Seamless Integration: Actions are designed to work seamlessly with GitHub, making it easy to trigger workflows on events like pushes, pull requests, and releases.\n",
    "Monitoring and Insights: GitHub provides built-in monitoring and insights for actions, helping you track performance and troubleshoot issues.\n",
    "Cons:\n",
    "\n",
    "Dependency on Third-Party Maintainers:\n",
    "\n",
    "Maintenance Risk: Some actions may not be regularly maintained or updated, which can lead to issues if dependencies change or if there are bugs in the action.\n",
    "Security Risks: Using third-party actions introduces potential security risks, especially if the actions have not been thoroughly vetted.\n",
    "Limited Customization:\n",
    "\n",
    "Pre-defined Functionality: While many actions offer some level of customization, they may not always meet specific needs perfectly. In such cases, custom actions or scripts might be necessary.\n",
    "Learning Curve: Understanding how to properly configure and use complex actions might require a learning curve, especially for less-documented or more intricate actions.\n",
    "Performance Overhead:\n",
    "\n",
    "Resource Usage: Some actions may introduce additional resource usage or overhead, potentially impacting the performance of your workflows.\n",
    "Execution Time: Depending on the complexity and number of actions used, there might be an impact on the execution time of your CI/CD pipelines.\n",
    "Lock-In to GitHub:\n",
    "\n",
    "Vendor Lock-In: Heavy reliance on GitHub-specific actions can lead to vendor lock-in, making it more challenging to migrate to other CI/CD platforms if needed.\n",
    "Complexity in Managing Dependencies:\n",
    "\n",
    "Version Management: Keeping track of and managing the versions of various actions can become complex, especially if different projects use different versions of the same action."
   ],
   "metadata": {
    "collapsed": false
   },
   "id": "7ed2753faea6a2dd"
  },
  {
   "cell_type": "markdown",
   "source": [
    "6. Hands-On: Setting Up GitHub Actions for Python Testing (15 minutes)\n",
    "Creating a GitHub Repository\n",
    "Initializing a new repository.\n",
    "Pushing the local project to GitHub.\n",
    "Writing a GitHub Actions Workflow\n",
    "Creating a .github/workflows directory.\n",
    "Writing a basic workflow YAML file to run Python tests.\n",
    "Explaining Workflow Components\n",
    "Triggers (on push, pull request)\n",
    "Jobs and steps (setup, install dependencies, run tests)\n",
    "Running the Workflow\n",
    "Committing and pushing changes to trigger the workflow.\n",
    "Viewing the workflow run results on GitHub."
   ],
   "metadata": {
    "collapsed": false
   },
   "id": "310115a424daf3db"
  },
  {
   "cell_type": "markdown",
   "source": [
    "7. Advanced Topics (Optional, if time allows) (5 minutes)\n",
    "Customizing Workflows\n",
    "Adding more steps (e.g., linting, code coverage).\n",
    "Using secrets and environment variables.\n",
    "Extending Testing Frameworks\n",
    "Brief introduction to pytest and other testing tools.\n",
    "Integrating additional tools with GitHub Actions."
   ],
   "metadata": {
    "collapsed": false
   },
   "id": "82e023c57bbc139"
  },
  {
   "cell_type": "markdown",
   "source": [
    "8. Q&A and Wrap-Up (5 minutes)\n",
    "Questions and Discussion\n",
    "Addressing any questions from participants.\n",
    "Summary and Next Steps\n",
    "Recap of key points covered.\n",
    "Resources for further learning (e.g., documentation, tutorials)."
   ],
   "metadata": {
    "collapsed": false
   },
   "id": "77b31010b0c7d615"
  },
  {
   "cell_type": "markdown",
   "source": [
    "GitHub Actions\n",
    "GitHub Marketplace\n",
    "GitHub Events that trigger workflows https://docs.github.com/en/actions/using-workflows/events-that-trigger-workflows"
   ],
   "metadata": {
    "collapsed": false
   },
   "id": "cda8ade5e2027f88"
  }
 ],
 "metadata": {
  "kernelspec": {
   "display_name": "Python 3",
   "language": "python",
   "name": "python3"
  },
  "language_info": {
   "codemirror_mode": {
    "name": "ipython",
    "version": 2
   },
   "file_extension": ".py",
   "mimetype": "text/x-python",
   "name": "python",
   "nbconvert_exporter": "python",
   "pygments_lexer": "ipython2",
   "version": "2.7.6"
  }
 },
 "nbformat": 4,
 "nbformat_minor": 5
}
